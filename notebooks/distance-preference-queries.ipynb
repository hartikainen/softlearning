{
 "cells": [
  {
   "cell_type": "code",
   "execution_count": null,
   "metadata": {},
   "outputs": [],
   "source": [
    "%load_ext autoreload\n",
    "%autoreload 2\n",
    "%matplotlib inline\n",
    "\n",
    "import glob\n",
    "import os\n",
    "\n",
    "import matplotlib\n",
    "matplotlib.rcParams['figure.figsize'] = [14, 12]\n",
    "\n",
    "from softlearning.utils.metric_learning.human_preferences import (\n",
    "    view_all_queries, record_query)"
   ]
  },
  {
   "cell_type": "code",
   "execution_count": null,
   "metadata": {},
   "outputs": [],
   "source": [
    "ENVIRONMENT_RESULT_DIRECTORY = \"/home/hartikainen/ray_results/gym/DClaw/TurnFixed-v0\"\n",
    "def get_latest_experiment(base_path):\n",
    "    experiments = glob.glob(os.path.join(base_path, '*'))\n",
    "    latest_experiment = list(sorted(experiments))[-1]\n",
    "    return latest_experiment\n",
    "\n",
    "def get_latest_trial(experiment_path):\n",
    "    trials = glob.glob(os.path.join(experiment_path, '*'))\n",
    "    latest_trial = list(sorted(trials))[-1]\n",
    "    return latest_trial\n",
    "    \n",
    "TRIAL_DIRECTORY = get_latest_trial(get_latest_experiment(ENVIRONMENT_RESULT_DIRECTORY))\n",
    "print(TRIAL_DIRECTORY)"
   ]
  },
  {
   "cell_type": "code",
   "execution_count": null,
   "metadata": {},
   "outputs": [],
   "source": [
    "view_all_queries(TRIAL_DIRECTORY)"
   ]
  },
  {
   "cell_type": "code",
   "execution_count": null,
   "metadata": {},
   "outputs": [],
   "source": [
    "record_query(query_id=7, observation_id=9, observation_value=None, trial_directory=TRIAL_DIRECTORY)"
   ]
  }
 ],
 "metadata": {
  "kernelspec": {
   "display_name": "Python 3",
   "language": "python",
   "name": "python3"
  },
  "language_info": {
   "codemirror_mode": {
    "name": "ipython",
    "version": 3
   },
   "file_extension": ".py",
   "mimetype": "text/x-python",
   "name": "python",
   "nbconvert_exporter": "python",
   "pygments_lexer": "ipython3",
   "version": "3.7.3"
  }
 },
 "nbformat": 4,
 "nbformat_minor": 2
}
