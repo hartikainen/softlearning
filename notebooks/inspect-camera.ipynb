{
 "cells": [
  {
   "cell_type": "code",
   "execution_count": null,
   "metadata": {},
   "outputs": [],
   "source": [
    "%load_ext autoreload\n",
    "%autoreload 2\n",
    "%matplotlib notebook\n",
    "\n",
    "import os\n",
    "import rospy\n",
    "from itertools import count\n",
    "from time import sleep, time\n",
    "import numpy as np\n",
    "import matplotlib.pyplot as plt\n",
    "from IPython import display\n",
    "\n",
    "from skimage import io, color, img_as_float, img_as_ubyte, img_as_bool\n",
    "\n",
    "from dsuite.utils import kinect_image_service, logitech_image_service\n",
    "from softlearning.environments.utils import get_environment"
   ]
  },
  {
   "cell_type": "code",
   "execution_count": null,
   "metadata": {},
   "outputs": [],
   "source": [
    "# IMAGE_SHAPE = (128, 128, 3)\n",
    "IMAGE_SHAPE = (32, 32, 3)"
   ]
  },
  {
   "cell_type": "code",
   "execution_count": null,
   "metadata": {},
   "outputs": [],
   "source": [
    "# print(\"image_service1\")\n",
    "# image_service1 = kinect_image_service.KinectImageService(topic=\"/kinect2_001144463747/hd/image_color\")\n",
    "# print(\"image_service2\")\n",
    "# image_service2 = kinect_image_service.KinectImageService(topic=\"/kinect2_001161563647/hd/image_color\")\n",
    "\n",
    "# print(\"image_service1\")\n",
    "# image_service1 = logitech_image_service.LogitechImageService(topic=\"/front_1/image_raw\", image_shape=IMAGE_SHAPE)\n",
    "# print(\"image_service2\")\n",
    "# image_service2 = logitech_image_service.LogitechImageService(topic=\"/front_2/image_raw\")\n",
    "\n",
    "print(\"image_service1\")\n",
    "image_service1 = kinect_image_service.KinectImageService(\n",
    "    topic=\"/kinect2_001144463747/qhd/image_color\", image_shape=IMAGE_SHAPE)\n",
    "# print(\"image_service2\")\n",
    "# image_service2 = kinect_image_service.KinectImageService(topic=\"/kinect2_001161563647/qhd/image_color\")"
   ]
  },
  {
   "cell_type": "code",
   "execution_count": null,
   "metadata": {
    "scrolled": false
   },
   "outputs": [],
   "source": [
    "fig = plt.figure(figsize=(10, 10))\n",
    "ax = fig.gca()\n",
    "plt.show()\n",
    "for i in range(10000):\n",
    "    plt.clf()\n",
    "    plt.cla()\n",
    "    # image1 = image_service1.get_image()\n",
    "    height, width = IMAGE_SHAPE[:2]\n",
    "    try:\n",
    "        image1 = image_service1.get_image(width=width, height=height)\n",
    "    except Exception as e:\n",
    "        image1 = np.zeros((32, 32, 3), dtype=np.uint8)\n",
    "    try:\n",
    "        image2 = image_service2.get_image()\n",
    "    except Exception as e:\n",
    "        # image2 = np.zeros_like(image1)\n",
    "        image2 = None\n",
    "    if image2 is None:\n",
    "        plt.imshow(image1)\n",
    "        # print(image2.dtype)\n",
    "    else:\n",
    "        plt.imshow(np.concatenate((image1, image2), axis=1))\n",
    "    fig.canvas.draw()\n",
    "    ax.set_title(i)\n",
    "    # sleep(0.01)"
   ]
  }
 ],
 "metadata": {
  "kernelspec": {
   "display_name": "Python 3",
   "language": "python",
   "name": "python3"
  },
  "language_info": {
   "codemirror_mode": {
    "name": "ipython",
    "version": 3
   },
   "file_extension": ".py",
   "mimetype": "text/x-python",
   "name": "python",
   "nbconvert_exporter": "python",
   "pygments_lexer": "ipython3",
   "version": "3.7.3"
  }
 },
 "nbformat": 4,
 "nbformat_minor": 2
}
